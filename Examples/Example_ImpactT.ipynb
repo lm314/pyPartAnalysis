{
 "cells": [
  {
   "cell_type": "markdown",
   "id": "8793fc0c-460d-421f-af28-ce38df53114f",
   "metadata": {},
   "source": [
    "# Running pyPartAnalysis on ImpactT Data"
   ]
  },
  {
   "cell_type": "markdown",
   "id": "cf9602d9-337b-45ca-91e0-508b59a65465",
   "metadata": {},
   "source": [
    "We look at the example case of a electron distribution of 20480 particles being accelerated after emission from the cathode of an RF photoinjector up to about 5 MeV with some weak focusing provided by a solenoid with $B_z = 0$ at the cathode surface.\n",
    "\n",
    "We begin by loading the necessary modules:"
   ]
  },
  {
   "cell_type": "code",
   "execution_count": 1,
   "id": "6d2a63e5-a25a-4157-a43c-87af4100b078",
   "metadata": {},
   "outputs": [],
   "source": [
    "import pyPartAnalysis.particle_accelerator_utilities as pau\n",
    "import pyPartAnalysis.IMPACTZ_analysis as imp\n",
    "import pyPartAnalysis.read_partial_norm as rpn"
   ]
  },
  {
   "cell_type": "code",
   "execution_count": 2,
   "id": "547815eb-f179-44ea-ab04-d9801c1ae8eb",
   "metadata": {},
   "outputs": [],
   "source": [
    "import matplotlib.pyplot as plt\n",
    "import numpy as np\n",
    "import pandas as pd\n",
    "from scipy import stats"
   ]
  },
  {
   "cell_type": "markdown",
   "id": "a43cbe9d-f7fb-4b57-b6d8-656093ffcd42",
   "metadata": {},
   "source": [
    "## Importing Particle Distribution"
   ]
  },
  {
   "cell_type": "markdown",
   "id": "080fc8f2-a426-4d5a-96a4-06175d0e403f",
   "metadata": {},
   "source": [
    "We can import a text file for a particle distribution file in ImpactT format."
   ]
  },
  {
   "cell_type": "code",
   "execution_count": 3,
   "id": "a2294086-4354-4bb1-9dad-3adf56419c01",
   "metadata": {},
   "outputs": [],
   "source": [
    "file_name = 'fort.50'"
   ]
  },
  {
   "cell_type": "code",
   "execution_count": 4,
   "id": "92f4ebca-fa7b-4d96-a0f8-40373cdb3ec4",
   "metadata": {},
   "outputs": [],
   "source": [
    "df_norm = rpn.read_fort_norm_momentum(file_name)"
   ]
  },
  {
   "cell_type": "code",
   "execution_count": 5,
   "id": "3771af22-ed6f-4c91-b1d8-a1acaacf039a",
   "metadata": {},
   "outputs": [
    {
     "data": {
      "text/html": [
       "<div>\n",
       "<style scoped>\n",
       "    .dataframe tbody tr th:only-of-type {\n",
       "        vertical-align: middle;\n",
       "    }\n",
       "\n",
       "    .dataframe tbody tr th {\n",
       "        vertical-align: top;\n",
       "    }\n",
       "\n",
       "    .dataframe thead th {\n",
       "        text-align: right;\n",
       "    }\n",
       "</style>\n",
       "<table border=\"1\" class=\"dataframe\">\n",
       "  <thead>\n",
       "    <tr style=\"text-align: right;\">\n",
       "      <th></th>\n",
       "      <th>x</th>\n",
       "      <th>GBx</th>\n",
       "      <th>y</th>\n",
       "      <th>GBy</th>\n",
       "      <th>z</th>\n",
       "      <th>GBz</th>\n",
       "    </tr>\n",
       "  </thead>\n",
       "  <tbody>\n",
       "    <tr>\n",
       "      <th>0</th>\n",
       "      <td>0.000323</td>\n",
       "      <td>0.001925</td>\n",
       "      <td>-0.000467</td>\n",
       "      <td>-0.002848</td>\n",
       "      <td>0.399899</td>\n",
       "      <td>10.675817</td>\n",
       "    </tr>\n",
       "    <tr>\n",
       "      <th>1</th>\n",
       "      <td>0.000194</td>\n",
       "      <td>0.001138</td>\n",
       "      <td>-0.000593</td>\n",
       "      <td>-0.003571</td>\n",
       "      <td>0.399905</td>\n",
       "      <td>10.674877</td>\n",
       "    </tr>\n",
       "    <tr>\n",
       "      <th>2</th>\n",
       "      <td>0.000295</td>\n",
       "      <td>0.001799</td>\n",
       "      <td>-0.000448</td>\n",
       "      <td>-0.002710</td>\n",
       "      <td>0.399893</td>\n",
       "      <td>10.677268</td>\n",
       "    </tr>\n",
       "    <tr>\n",
       "      <th>3</th>\n",
       "      <td>0.000372</td>\n",
       "      <td>0.002206</td>\n",
       "      <td>-0.000459</td>\n",
       "      <td>-0.002788</td>\n",
       "      <td>0.399901</td>\n",
       "      <td>10.675402</td>\n",
       "    </tr>\n",
       "    <tr>\n",
       "      <th>4</th>\n",
       "      <td>0.000270</td>\n",
       "      <td>0.001650</td>\n",
       "      <td>-0.000512</td>\n",
       "      <td>-0.003088</td>\n",
       "      <td>0.399897</td>\n",
       "      <td>10.676311</td>\n",
       "    </tr>\n",
       "  </tbody>\n",
       "</table>\n",
       "</div>"
      ],
      "text/plain": [
       "          x       GBx         y       GBy         z        GBz\n",
       "0  0.000323  0.001925 -0.000467 -0.002848  0.399899  10.675817\n",
       "1  0.000194  0.001138 -0.000593 -0.003571  0.399905  10.674877\n",
       "2  0.000295  0.001799 -0.000448 -0.002710  0.399893  10.677268\n",
       "3  0.000372  0.002206 -0.000459 -0.002788  0.399901  10.675402\n",
       "4  0.000270  0.001650 -0.000512 -0.003088  0.399897  10.676311"
      ]
     },
     "execution_count": 5,
     "metadata": {},
     "output_type": "execute_result"
    }
   ],
   "source": [
    "df_norm.head()"
   ]
  },
  {
   "cell_type": "markdown",
   "id": "584d959e-c314-4719-b026-f667d6c8cb37",
   "metadata": {},
   "source": [
    "From this we can compute the average kinetic energy of the distribution from the normalized momentum."
   ]
  },
  {
   "cell_type": "code",
   "execution_count": 6,
   "id": "53c8fc0b-c410-4217-9cf7-03d3b4e3e746",
   "metadata": {},
   "outputs": [],
   "source": [
    "gamma = pau.gammabeta2gamma(df_norm.GBx,df_norm.GBy,df_norm.GBz)\n",
    "kinetic_energy = np.mean(pau.gamma2KE(gamma))"
   ]
  },
  {
   "cell_type": "code",
   "execution_count": 7,
   "id": "8580c36a-f506-4542-adf1-5d1836eb4dff",
   "metadata": {},
   "outputs": [
    {
     "name": "stdout",
     "output_type": "stream",
     "text": [
      "Average Kinetic Energy: 4.96 MeV\n"
     ]
    }
   ],
   "source": [
    "print(\"Average Kinetic Energy: %0.2f MeV\" % (kinetic_energy*1e-6) )"
   ]
  },
  {
   "cell_type": "markdown",
   "id": "8260565d-7e7e-4f67-9888-1603af5acfa3",
   "metadata": {},
   "source": [
    "## Converting to Phase Space Coordinates"
   ]
  },
  {
   "cell_type": "markdown",
   "id": "d80e57b0-80b2-4a77-85c8-33854a4752e7",
   "metadata": {},
   "source": [
    "We convert the distribution from the normalized units output to phase space coordinates:"
   ]
  },
  {
   "cell_type": "markdown",
   "id": "411dc1f9-7c2f-49ac-9cec-1f48e4e187c3",
   "metadata": {},
   "source": [
    "$$\n",
    "    x,x^\\prime,y,y^\\prime,z,\\delta\n",
    "$$"
   ]
  },
  {
   "cell_type": "markdown",
   "id": "72662c7c-f365-4bdd-992c-31455e62982f",
   "metadata": {},
   "source": [
    "where $\\delta$ is the normalized energy spread. Once the distribution is in this format, we can apply many of the functions found in the `IMPACTZ_analysis` submodule of `pyPartAnalysis`"
   ]
  },
  {
   "cell_type": "code",
   "execution_count": 8,
   "id": "bdf77ae9-f172-4c81-b290-bc11f757e651",
   "metadata": {},
   "outputs": [],
   "source": [
    "df = rpn.convert_phase_space(df_norm)"
   ]
  },
  {
   "cell_type": "code",
   "execution_count": 9,
   "id": "2f81095d-ba1d-4d05-b153-3ee02e5e44fe",
   "metadata": {},
   "outputs": [
    {
     "data": {
      "text/html": [
       "<div>\n",
       "<style scoped>\n",
       "    .dataframe tbody tr th:only-of-type {\n",
       "        vertical-align: middle;\n",
       "    }\n",
       "\n",
       "    .dataframe tbody tr th {\n",
       "        vertical-align: top;\n",
       "    }\n",
       "\n",
       "    .dataframe thead th {\n",
       "        text-align: right;\n",
       "    }\n",
       "</style>\n",
       "<table border=\"1\" class=\"dataframe\">\n",
       "  <thead>\n",
       "    <tr style=\"text-align: right;\">\n",
       "      <th></th>\n",
       "      <th>x</th>\n",
       "      <th>xp</th>\n",
       "      <th>y</th>\n",
       "      <th>yp</th>\n",
       "      <th>z</th>\n",
       "      <th>delta</th>\n",
       "    </tr>\n",
       "  </thead>\n",
       "  <tbody>\n",
       "    <tr>\n",
       "      <th>0</th>\n",
       "      <td>0.000323</td>\n",
       "      <td>0.000180</td>\n",
       "      <td>-0.000467</td>\n",
       "      <td>-0.000267</td>\n",
       "      <td>0.399899</td>\n",
       "      <td>0.002146</td>\n",
       "    </tr>\n",
       "    <tr>\n",
       "      <th>1</th>\n",
       "      <td>0.000194</td>\n",
       "      <td>0.000107</td>\n",
       "      <td>-0.000593</td>\n",
       "      <td>-0.000335</td>\n",
       "      <td>0.399905</td>\n",
       "      <td>0.002059</td>\n",
       "    </tr>\n",
       "    <tr>\n",
       "      <th>2</th>\n",
       "      <td>0.000295</td>\n",
       "      <td>0.000168</td>\n",
       "      <td>-0.000448</td>\n",
       "      <td>-0.000254</td>\n",
       "      <td>0.399893</td>\n",
       "      <td>0.002281</td>\n",
       "    </tr>\n",
       "    <tr>\n",
       "      <th>3</th>\n",
       "      <td>0.000372</td>\n",
       "      <td>0.000207</td>\n",
       "      <td>-0.000459</td>\n",
       "      <td>-0.000261</td>\n",
       "      <td>0.399901</td>\n",
       "      <td>0.002108</td>\n",
       "    </tr>\n",
       "    <tr>\n",
       "      <th>4</th>\n",
       "      <td>0.000270</td>\n",
       "      <td>0.000155</td>\n",
       "      <td>-0.000512</td>\n",
       "      <td>-0.000289</td>\n",
       "      <td>0.399897</td>\n",
       "      <td>0.002192</td>\n",
       "    </tr>\n",
       "  </tbody>\n",
       "</table>\n",
       "</div>"
      ],
      "text/plain": [
       "          x        xp         y        yp         z     delta\n",
       "0  0.000323  0.000180 -0.000467 -0.000267  0.399899  0.002146\n",
       "1  0.000194  0.000107 -0.000593 -0.000335  0.399905  0.002059\n",
       "2  0.000295  0.000168 -0.000448 -0.000254  0.399893  0.002281\n",
       "3  0.000372  0.000207 -0.000459 -0.000261  0.399901  0.002108\n",
       "4  0.000270  0.000155 -0.000512 -0.000289  0.399897  0.002192"
      ]
     },
     "execution_count": 9,
     "metadata": {},
     "output_type": "execute_result"
    }
   ],
   "source": [
    "df.head()"
   ]
  },
  {
   "cell_type": "markdown",
   "id": "ff583597-b946-4c8a-9832-304b24281865",
   "metadata": {},
   "source": [
    "The phase space along the three dimensions can be plotted using the distribution in this format:"
   ]
  },
  {
   "cell_type": "code",
   "execution_count": 10,
   "id": "d02635df-1a72-4fdb-90c1-8aa2d3174fa1",
   "metadata": {},
   "outputs": [
    {
     "data": {
      "image/png": "[encoded data removed]",
      "text/plain": [
       "<Figure size 432x288 with 1 Axes>"
      ]
     },
     "metadata": {
      "needs_background": "light"
     },
     "output_type": "display_data"
    }
   ],
   "source": [
    "imp.plot_phase_space_density(df,'x',[100,100]);"
   ]
  },
  {
   "cell_type": "code",
   "execution_count": 11,
   "id": "ef308783-3ef3-40c8-a26a-c053f07c01b5",
   "metadata": {},
   "outputs": [
    {
     "data": {
      "image/png": "[encoded data removed]",
      "text/plain": [
       "<Figure size 432x288 with 1 Axes>"
      ]
     },
     "metadata": {
      "needs_background": "light"
     },
     "output_type": "display_data"
    }
   ],
   "source": [
    "imp.plot_phase_space_density(df,'y',[100,100]);"
   ]
  },
  {
   "cell_type": "code",
   "execution_count": 12,
   "id": "468c9ba3-27fd-479f-8e4f-9d7bf0305b2e",
   "metadata": {},
   "outputs": [
    {
     "data": {
      "image/png": "[encoded data removed]",
      "text/plain": [
       "<Figure size 432x288 with 1 Axes>"
      ]
     },
     "metadata": {
      "needs_background": "light"
     },
     "output_type": "display_data"
    }
   ],
   "source": [
    "imp.plot_phase_space_density(df,'z',[100,100]);"
   ]
  },
  {
   "cell_type": "markdown",
   "id": "7a7d654f-bd95-45e1-9974-751a067a8738",
   "metadata": {},
   "source": [
    "Note that `convert_phase_space` does not zero the mean as can be seen in the z phase space plot above."
   ]
  },
  {
   "cell_type": "markdown",
   "id": "319ec071-308b-4bcf-8c85-0210664c8a56",
   "metadata": {},
   "source": [
    "## Getting Information About Distributions"
   ]
  },
  {
   "cell_type": "markdown",
   "id": "9b382f48-e7d0-4214-be59-88674045f128",
   "metadata": {},
   "source": [
    "For ImpactT, `fort.40` is the distribution at the start of the simulation and `fort.50` is the distribution at the end of the simulation.\n",
    "\n",
    "If we use `read_norm`, the `read_fort_norm_momentum` and `convert_phase_space` methods are performed at the same time, yielding the distribution in the phase space coordinates."
   ]
  },
  {
   "cell_type": "code",
   "execution_count": 13,
   "id": "2709e0e7-83ff-4d71-9203-5a6646ba5169",
   "metadata": {},
   "outputs": [],
   "source": [
    "df_input = rpn.read_norm('fort.40')"
   ]
  },
  {
   "cell_type": "markdown",
   "id": "a5a857b5-e055-4f53-9a22-e8f366d41b29",
   "metadata": {},
   "source": [
    "Using `print_twiss`, we can print the Twiss parameters for a distribution in phase space coordinates, which is useful for determing beam quality or whether it is focusing or defocusing (among other properties)."
   ]
  },
  {
   "cell_type": "code",
   "execution_count": 14,
   "id": "30f79e58-1415-47b3-bf11-d49d476d1d56",
   "metadata": {},
   "outputs": [
    {
     "name": "stdout",
     "output_type": "stream",
     "text": [
      "emitn = [2.73589005e-05 2.71957774e-05 3.97860256e-13]\n",
      "alpha = [ 0.01059053  0.00389844 -0.00570646]\n",
      "beta = [8.81761649e-05 8.81079496e-05 4.19892821e-03]\n",
      "gamma = [11342.20524366 11349.88615724   238.16376783]\n",
      "emit = [2.56824705e-06 2.55293430e-06 3.73481176e-14]\n"
     ]
    }
   ],
   "source": [
    "imp.print_twiss(df_input,kinetic_energy=kinetic_energy)"
   ]
  },
  {
   "cell_type": "code",
   "execution_count": 15,
   "id": "0fa5b7ac-84e2-4923-9613-74f179e54479",
   "metadata": {},
   "outputs": [],
   "source": [
    "df_output = rpn.read_norm('fort.50')"
   ]
  },
  {
   "cell_type": "code",
   "execution_count": 16,
   "id": "508451da-19f2-4216-9621-c0a9c4447a15",
   "metadata": {},
   "outputs": [
    {
     "name": "stdout",
     "output_type": "stream",
     "text": [
      "emitn = [1.67316477e-08 1.69859776e-08 1.86243082e-08]\n",
      "alpha = [-45.43497847 -44.8749623   57.37680561]\n",
      "beta = [81.29313142 80.19315419  2.47687717]\n",
      "gamma = [  25.40604886   25.12386826 1329.53618222]\n",
      "emit = [1.57064078e-09 1.59451536e-09 1.74830947e-09]\n"
     ]
    }
   ],
   "source": [
    "imp.print_twiss(df_output,kinetic_energy=kinetic_energy)"
   ]
  },
  {
   "cell_type": "markdown",
   "id": "34d1f004-98af-48dc-a263-0e4cd2cdb0cf",
   "metadata": {},
   "source": [
    "## Linear Transport Matrix"
   ]
  },
  {
   "cell_type": "markdown",
   "id": "f4a06a11-ff74-463c-bb85-8ad93c8d05f6",
   "metadata": {},
   "source": [
    "We can get the linear transport matrix that describes the particle dynamics between these two positions in the beamline as well."
   ]
  },
  {
   "cell_type": "code",
   "execution_count": 17,
   "id": "fe6efc8a-bc03-47a8-82bb-275ed17685bb",
   "metadata": {},
   "outputs": [],
   "source": [
    "rmat,_ = imp.get_transport_matrix(input_df=df_input,output_df=df_output)"
   ]
  },
  {
   "cell_type": "code",
   "execution_count": 18,
   "id": "875c3090-8589-4960-87be-e70666e59e5d",
   "metadata": {},
   "outputs": [
    {
     "name": "stdout",
     "output_type": "stream",
     "text": [
      "               x        xp          y        yp             z       delta\n",
      "x       0.141859 -0.000005   0.017460 -0.000007  4.557159e+00   -0.428310\n",
      "xp      0.076923 -0.000003   0.010142 -0.000004 -4.529266e+00   -0.236497\n",
      "y       0.027627 -0.000005  -0.082676  0.000015  1.064506e+01    0.458230\n",
      "yp      0.015979 -0.000003  -0.044708  0.000008  3.273176e+00    0.256019\n",
      "z     -51.369553  0.000755 -24.867643 -0.004018 -7.487951e+06  179.825866\n",
      "delta  -0.138838  0.000042   1.004628 -0.000080  2.053976e+01    2.108487\n"
     ]
    }
   ],
   "source": [
    "print(pd.DataFrame(rmat,columns=['x','xp','y','yp','z','delta'],index=['x','xp','y','yp','z','delta']))"
   ]
  },
  {
   "cell_type": "markdown",
   "id": "c62782d3-ffe5-492d-89d0-3966ff74096a",
   "metadata": {},
   "source": [
    "## Looking at Fort.18: Reference Particle Data"
   ]
  },
  {
   "cell_type": "markdown",
   "id": "839f30e5-91e9-434e-b469-9b9ec9160200",
   "metadata": {},
   "source": [
    "To import the standard fort text files (that are not particle distributions), we use `read_fort`. Note that there is a version of `read_norm` in the `pyPartAnalysis.IMPACTZ_analysis` submodule that performs this importation for files generated by ImpactZ.\n",
    "\n",
    "We look at the information calculated for the reference particle at each time step by importing `fort.18`."
   ]
  },
  {
   "cell_type": "code",
   "execution_count": 19,
   "id": "bcc73bd2-6eae-4a1b-bcf3-a5828f2cce08",
   "metadata": {},
   "outputs": [],
   "source": [
    "ref_data = rpn.read_fort('fort.18')"
   ]
  },
  {
   "cell_type": "code",
   "execution_count": 20,
   "id": "8552c16a-9d8b-4c26-99be-0e5f962c92c6",
   "metadata": {},
   "outputs": [
    {
     "data": {
      "text/html": [
       "<div>\n",
       "<style scoped>\n",
       "    .dataframe tbody tr th:only-of-type {\n",
       "        vertical-align: middle;\n",
       "    }\n",
       "\n",
       "    .dataframe tbody tr th {\n",
       "        vertical-align: top;\n",
       "    }\n",
       "\n",
       "    .dataframe thead th {\n",
       "        text-align: right;\n",
       "    }\n",
       "</style>\n",
       "<table border=\"1\" class=\"dataframe\">\n",
       "  <thead>\n",
       "    <tr style=\"text-align: right;\">\n",
       "      <th></th>\n",
       "      <th>t</th>\n",
       "      <th>dist</th>\n",
       "      <th>gamma</th>\n",
       "      <th>KE</th>\n",
       "      <th>beta</th>\n",
       "      <th>Rmax</th>\n",
       "      <th>energy_deviation</th>\n",
       "    </tr>\n",
       "  </thead>\n",
       "  <tbody>\n",
       "    <tr>\n",
       "      <th>0</th>\n",
       "      <td>0.000000e+00</td>\n",
       "      <td>-5.030073e-08</td>\n",
       "      <td>1.000006</td>\n",
       "      <td>0.000003</td>\n",
       "      <td>0.003315</td>\n",
       "      <td>0.000034</td>\n",
       "      <td>0.000003</td>\n",
       "    </tr>\n",
       "    <tr>\n",
       "      <th>1</th>\n",
       "      <td>5.250000e-15</td>\n",
       "      <td>-4.718699e-08</td>\n",
       "      <td>1.000006</td>\n",
       "      <td>0.000003</td>\n",
       "      <td>0.003315</td>\n",
       "      <td>0.000034</td>\n",
       "      <td>0.000003</td>\n",
       "    </tr>\n",
       "    <tr>\n",
       "      <th>2</th>\n",
       "      <td>1.050000e-14</td>\n",
       "      <td>-4.407314e-08</td>\n",
       "      <td>1.000006</td>\n",
       "      <td>0.000003</td>\n",
       "      <td>0.003315</td>\n",
       "      <td>0.000034</td>\n",
       "      <td>0.000003</td>\n",
       "    </tr>\n",
       "    <tr>\n",
       "      <th>3</th>\n",
       "      <td>1.575000e-14</td>\n",
       "      <td>-4.095888e-08</td>\n",
       "      <td>1.000006</td>\n",
       "      <td>0.000003</td>\n",
       "      <td>0.003315</td>\n",
       "      <td>0.000034</td>\n",
       "      <td>0.000003</td>\n",
       "    </tr>\n",
       "    <tr>\n",
       "      <th>4</th>\n",
       "      <td>2.100000e-14</td>\n",
       "      <td>-3.784371e-08</td>\n",
       "      <td>1.000006</td>\n",
       "      <td>0.000003</td>\n",
       "      <td>0.003316</td>\n",
       "      <td>0.000034</td>\n",
       "      <td>0.000003</td>\n",
       "    </tr>\n",
       "  </tbody>\n",
       "</table>\n",
       "</div>"
      ],
      "text/plain": [
       "              t          dist     gamma        KE      beta      Rmax  \\\n",
       "0  0.000000e+00 -5.030073e-08  1.000006  0.000003  0.003315  0.000034   \n",
       "1  5.250000e-15 -4.718699e-08  1.000006  0.000003  0.003315  0.000034   \n",
       "2  1.050000e-14 -4.407314e-08  1.000006  0.000003  0.003315  0.000034   \n",
       "3  1.575000e-14 -4.095888e-08  1.000006  0.000003  0.003315  0.000034   \n",
       "4  2.100000e-14 -3.784371e-08  1.000006  0.000003  0.003316  0.000034   \n",
       "\n",
       "   energy_deviation  \n",
       "0          0.000003  \n",
       "1          0.000003  \n",
       "2          0.000003  \n",
       "3          0.000003  \n",
       "4          0.000003  "
      ]
     },
     "execution_count": 20,
     "metadata": {},
     "output_type": "execute_result"
    }
   ],
   "source": [
    "ref_data.head()"
   ]
  },
  {
   "cell_type": "code",
   "execution_count": 21,
   "id": "87a04823-4449-4f14-9928-66d3e0711963",
   "metadata": {},
   "outputs": [
    {
     "data": {
      "image/png": "[encoded data removed]",
      "text/plain": [
       "<Figure size 432x288 with 1 Axes>"
      ]
     },
     "metadata": {
      "needs_background": "light"
     },
     "output_type": "display_data"
    }
   ],
   "source": [
    "plt.plot(ref_data.dist,ref_data.KE);\n",
    "\n",
    "plt.grid()\n",
    "plt.xlabel('z (m)');\n",
    "plt.ylabel('KE (MeV)');"
   ]
  },
  {
   "cell_type": "markdown",
   "id": "715ff21b-e907-4e2e-a442-570815342dda",
   "metadata": {},
   "source": [
    "## Looking at Fort.24: X Dimension"
   ]
  },
  {
   "cell_type": "markdown",
   "id": "efa6a589-ed16-4f60-8f88-85bf2d8f10e1",
   "metadata": {},
   "source": [
    "We begin by importing the fort.24 file which contains information about the transverse x dimension of the distribution at each time step."
   ]
  },
  {
   "cell_type": "code",
   "execution_count": 22,
   "id": "5bcb34f9-e126-48e9-8b9d-caf6be472e25",
   "metadata": {},
   "outputs": [],
   "source": [
    "x_data = rpn.read_fort('fort.24')"
   ]
  },
  {
   "cell_type": "markdown",
   "id": "ca52591b-1a35-496f-bd5b-f1d72227557d",
   "metadata": {},
   "source": [
    "The columns of the dataframe are as follows:\n",
    "- Time\n",
    "- Z Position\n",
    "- Average X position\n",
    "- X RMS Beam Size\n",
    "- Average X momentum\n",
    "- X RMS Momentum\n",
    "- X Alpha Twiss Parameter\n",
    "- X Normalized Emittance\n",
    "\n",
    "This information (along with descriptions of what each fort file contains) can be found in the documentation for [ImpactT](https://github.com/impact-lbl/IMPACT-T/blob/master/doc/ImpactTv2.pdf)"
   ]
  },
  {
   "cell_type": "code",
   "execution_count": 23,
   "id": "db168a2a-cd23-4bc4-a727-fdc0b97f4a41",
   "metadata": {},
   "outputs": [
    {
     "data": {
      "text/html": [
       "<div>\n",
       "<style scoped>\n",
       "    .dataframe tbody tr th:only-of-type {\n",
       "        vertical-align: middle;\n",
       "    }\n",
       "\n",
       "    .dataframe tbody tr th {\n",
       "        vertical-align: top;\n",
       "    }\n",
       "\n",
       "    .dataframe thead th {\n",
       "        text-align: right;\n",
       "    }\n",
       "</style>\n",
       "<table border=\"1\" class=\"dataframe\">\n",
       "  <thead>\n",
       "    <tr style=\"text-align: right;\">\n",
       "      <th></th>\n",
       "      <th>t</th>\n",
       "      <th>z</th>\n",
       "      <th>avgX</th>\n",
       "      <th>rmsX</th>\n",
       "      <th>avgPx</th>\n",
       "      <th>rmsPx</th>\n",
       "      <th>alphaX</th>\n",
       "      <th>rmsEmitN</th>\n",
       "    </tr>\n",
       "  </thead>\n",
       "  <tbody>\n",
       "    <tr>\n",
       "      <th>0</th>\n",
       "      <td>0.000000e+00</td>\n",
       "      <td>-5.030073e-08</td>\n",
       "      <td>-8.784466e-08</td>\n",
       "      <td>0.000015</td>\n",
       "      <td>0.000002</td>\n",
       "      <td>0.000501</td>\n",
       "      <td>9.519542e-11</td>\n",
       "      <td>7.539521e-09</td>\n",
       "    </tr>\n",
       "    <tr>\n",
       "      <th>1</th>\n",
       "      <td>5.250000e-15</td>\n",
       "      <td>-4.718699e-08</td>\n",
       "      <td>-8.784466e-08</td>\n",
       "      <td>0.000015</td>\n",
       "      <td>0.000002</td>\n",
       "      <td>0.000501</td>\n",
       "      <td>9.519542e-11</td>\n",
       "      <td>7.539521e-09</td>\n",
       "    </tr>\n",
       "    <tr>\n",
       "      <th>2</th>\n",
       "      <td>1.050000e-14</td>\n",
       "      <td>-4.407314e-08</td>\n",
       "      <td>-8.784465e-08</td>\n",
       "      <td>0.000015</td>\n",
       "      <td>0.000002</td>\n",
       "      <td>0.000501</td>\n",
       "      <td>9.519541e-11</td>\n",
       "      <td>7.539521e-09</td>\n",
       "    </tr>\n",
       "    <tr>\n",
       "      <th>3</th>\n",
       "      <td>1.575000e-14</td>\n",
       "      <td>-4.095888e-08</td>\n",
       "      <td>-8.784461e-08</td>\n",
       "      <td>0.000015</td>\n",
       "      <td>0.000002</td>\n",
       "      <td>0.000501</td>\n",
       "      <td>9.519534e-11</td>\n",
       "      <td>7.539521e-09</td>\n",
       "    </tr>\n",
       "    <tr>\n",
       "      <th>4</th>\n",
       "      <td>2.100000e-14</td>\n",
       "      <td>-3.784371e-08</td>\n",
       "      <td>-8.784438e-08</td>\n",
       "      <td>0.000015</td>\n",
       "      <td>0.000002</td>\n",
       "      <td>0.000501</td>\n",
       "      <td>9.519491e-11</td>\n",
       "      <td>7.539520e-09</td>\n",
       "    </tr>\n",
       "  </tbody>\n",
       "</table>\n",
       "</div>"
      ],
      "text/plain": [
       "              t             z          avgX      rmsX     avgPx     rmsPx  \\\n",
       "0  0.000000e+00 -5.030073e-08 -8.784466e-08  0.000015  0.000002  0.000501   \n",
       "1  5.250000e-15 -4.718699e-08 -8.784466e-08  0.000015  0.000002  0.000501   \n",
       "2  1.050000e-14 -4.407314e-08 -8.784465e-08  0.000015  0.000002  0.000501   \n",
       "3  1.575000e-14 -4.095888e-08 -8.784461e-08  0.000015  0.000002  0.000501   \n",
       "4  2.100000e-14 -3.784371e-08 -8.784438e-08  0.000015  0.000002  0.000501   \n",
       "\n",
       "         alphaX      rmsEmitN  \n",
       "0  9.519542e-11  7.539521e-09  \n",
       "1  9.519542e-11  7.539521e-09  \n",
       "2  9.519541e-11  7.539521e-09  \n",
       "3  9.519534e-11  7.539521e-09  \n",
       "4  9.519491e-11  7.539520e-09  "
      ]
     },
     "execution_count": 23,
     "metadata": {},
     "output_type": "execute_result"
    }
   ],
   "source": [
    "x_data.head()"
   ]
  },
  {
   "cell_type": "markdown",
   "id": "ffaba1a5-a9d6-45ed-8168-726d56cae006",
   "metadata": {},
   "source": [
    "Using matplotlib or another plotting library, it is simple to plot quantities vs z position in the beamline:"
   ]
  },
  {
   "cell_type": "code",
   "execution_count": 24,
   "id": "baf9bc48-6e65-42eb-8a8f-434e3c3cb9cd",
   "metadata": {},
   "outputs": [
    {
     "data": {
      "image/png": "[encoded data removed]",
      "text/plain": [
       "<Figure size 432x288 with 1 Axes>"
      ]
     },
     "metadata": {
      "needs_background": "light"
     },
     "output_type": "display_data"
    }
   ],
   "source": [
    "plt.plot(x_data.z,x_data.rmsX*10**6);\n",
    "    \n",
    "plt.grid()\n",
    "plt.xlabel('z (m)');\n",
    "plt.ylabel('$\\sigma_x$ (microns)');"
   ]
  },
  {
   "cell_type": "markdown",
   "id": "290f7dd1-e2da-4aec-abf2-6b0b3191d694",
   "metadata": {},
   "source": [
    "Here is the normalized emittance as well:"
   ]
  },
  {
   "cell_type": "code",
   "execution_count": 25,
   "id": "e807085a-c324-412e-8e7b-0a16079f6bd0",
   "metadata": {},
   "outputs": [
    {
     "data": {
      "image/png": "[encoded data removed]",
      "text/plain": [
       "<Figure size 432x288 with 1 Axes>"
      ]
     },
     "metadata": {
      "needs_background": "light"
     },
     "output_type": "display_data"
    }
   ],
   "source": [
    "plt.plot(x_data.z,x_data.rmsEmitN*10**9);\n",
    "\n",
    "#plt.ylim(0,40)\n",
    "plt.grid()\n",
    "plt.xlabel('z (m)');\n",
    "plt.ylabel('emitN_x (nm-rad)');\n",
    "plt.yscale('log')"
   ]
  },
  {
   "cell_type": "markdown",
   "id": "e80a4aee-a8d2-4848-a033-2ec2d57b88ab",
   "metadata": {},
   "source": [
    "`read_fort` works as equally as well for reading the other automatically generated files from ImpactT that are not full particle distributions."
   ]
  },
  {
   "cell_type": "markdown",
   "id": "35620126-cfed-4c69-b2c4-5383ad050244",
   "metadata": {},
   "source": [
    "# Normalized Coordinates"
   ]
  },
  {
   "cell_type": "markdown",
   "id": "ca9439ed-e60e-4ee5-9973-84865cad36de",
   "metadata": {},
   "source": [
    "To see if there are any nonlinearities in the distribution that appear as a function of longitudinal position within the bunch, it helps to convert to normalized coordinates."
   ]
  },
  {
   "cell_type": "code",
   "execution_count": 26,
   "id": "4fa87c37-063d-4e91-bf9b-7dc0141aa832",
   "metadata": {},
   "outputs": [],
   "source": [
    "df_output_norm = imp.normalized_coord(df_output)"
   ]
  },
  {
   "cell_type": "markdown",
   "id": "5f80a467-94f3-4bf8-8faf-3b94221387e3",
   "metadata": {},
   "source": [
    "If there are no z dependencies or other nonlinearities, we would expect the distribution to look like a perfect circle. However, we see that is not the case for the distribution at the end of the RF photoinjector."
   ]
  },
  {
   "cell_type": "code",
   "execution_count": 27,
   "id": "0bfc1324-e90b-46aa-a5a8-7b227a1e4b75",
   "metadata": {},
   "outputs": [
    {
     "data": {
      "image/png": "[encoded data removed]",
      "text/plain": [
       "<Figure size 432x288 with 1 Axes>"
      ]
     },
     "metadata": {
      "needs_background": "light"
     },
     "output_type": "display_data"
    }
   ],
   "source": [
    "fig = plt.figure()\n",
    "ax = fig.add_subplot(111)\n",
    "\n",
    "bounds = 2e-4;\n",
    "ax = imp.plot_phase_space_density(df_output_norm,'x',[100,100],ax=ax,cutoff=0,range=[[-bounds,bounds],[-bounds,bounds]]);\n",
    "ax.set_aspect('equal', adjustable='box')\n",
    "# ax.set_xlabel('')\n",
    "# ax.set_ylabel('')\n",
    "ax.get_xaxis().set_visible(False)\n",
    "ax.get_yaxis().set_visible(False)"
   ]
  },
  {
   "cell_type": "markdown",
   "id": "71b498fb-78c2-47f0-bec5-06058c4063ae",
   "metadata": {},
   "source": [
    "# Looking at the Correlations Based on Binning"
   ]
  },
  {
   "cell_type": "markdown",
   "id": "c805f8c6-003c-45fb-9f9e-d8c219569c44",
   "metadata": {},
   "source": [
    "To investigate further, we bin the distribution along the z direction and look at the phase space for each slice"
   ]
  },
  {
   "cell_type": "code",
   "execution_count": 28,
   "id": "fff52e5a-bdaa-4ed5-9f0f-2dfaffce3132",
   "metadata": {},
   "outputs": [],
   "source": [
    "num_bin_z = 10\n",
    "dim_bin = 'z'\n",
    "dim_plot = 'x'"
   ]
  },
  {
   "cell_type": "code",
   "execution_count": 29,
   "id": "f7e9625f-0fc0-402d-b0b6-bdf6fe1b5805",
   "metadata": {},
   "outputs": [],
   "source": [
    "df_output_norm_bin = imp.binning(df_output_norm,dim_bin,num_bin_z)"
   ]
  },
  {
   "cell_type": "markdown",
   "id": "beb346f1-545b-4620-8755-b8b4a186ebd2",
   "metadata": {},
   "source": [
    "To aid with the plotting, we filter the outlier particles that are greater than 3 standard deviations out from the distribution."
   ]
  },
  {
   "cell_type": "code",
   "execution_count": 30,
   "id": "3731edaa-eece-454b-bc76-cb22fef0ba79",
   "metadata": {},
   "outputs": [],
   "source": [
    "df_output_norm_bin = df_output_norm_bin[(np.abs(stats.zscore(df_output_norm_bin)) < 3).all(axis=1)]"
   ]
  },
  {
   "cell_type": "markdown",
   "id": "00c3aa9c-e4f1-4058-a36b-0dfef631534f",
   "metadata": {},
   "source": [
    "Below is a helper function for finding the range of the plots so that they are properly scaled."
   ]
  },
  {
   "cell_type": "code",
   "execution_count": 31,
   "id": "dcd9fcec-bc86-46a7-a497-e2aee8f7db79",
   "metadata": {},
   "outputs": [],
   "source": [
    "def get_bounds_norm(df,dim):\n",
    "    # Get maximum in normalized coordinates along x,y,z phase space\n",
    "    dim_dict = {'x':['x','xp'],\n",
    "                'y':['y','yp'],\n",
    "                'z':['z','delta']}\n",
    "    \n",
    "    boundsAll = pd.concat([df.max(),abs(df.min())],axis=1).max(axis=1)\n",
    "    bounds = boundsAll[dim_dict[dim_plot]].max()\n",
    "    \n",
    "    return bounds"
   ]
  },
  {
   "cell_type": "code",
   "execution_count": 32,
   "id": "e073fb20-4c77-4996-a853-ef6b4aeaefbd",
   "metadata": {},
   "outputs": [],
   "source": [
    "bounds = get_bounds_norm(df_output_norm_bin,dim_plot)"
   ]
  },
  {
   "cell_type": "markdown",
   "id": "9410ff42-8061-4dc3-973c-612c573e5e2e",
   "metadata": {},
   "source": [
    "Finally, we can see that going from tail of the bunch (on the left) to the head of the bunch (on the right), that the correlation in the x phase space changes based on the z position. This can lead to emittance growth which is undesirable."
   ]
  },
  {
   "cell_type": "code",
   "execution_count": 33,
   "id": "bca18ba2-06a2-478d-a579-fb0e6715614b",
   "metadata": {},
   "outputs": [
    {
     "data": {
      "image/png": "[encoded data removed]",
      "text/plain": [
       "<Figure size 1440x720 with 10 Axes>"
      ]
     },
     "metadata": {
      "needs_background": "light"
     },
     "output_type": "display_data"
    }
   ],
   "source": [
    "fig, axs = plt.subplots(nrows=1, ncols=num_bin_z,figsize=(20, 10))\n",
    "\n",
    "for ii in np.arange(0,num_bin_z):\n",
    "    slice_df_norm = df_output_norm_bin[df_output_norm_bin.bin_z == ii]\n",
    "    imp.plot_phase_space_density(slice_df_norm,dim_plot,[100,100],ax=axs[ii],cutoff=0,range=[[-bounds,bounds],[-bounds,bounds]]);\n",
    "    axs[ii].set_aspect('equal', adjustable='box')\n",
    "    axs[ii].get_xaxis().set_visible(False)\n",
    "    axs[ii].get_yaxis().set_visible(False)"
   ]
  }
 ],
 "metadata": {
  "kernelspec": {
   "display_name": "NERSC Python",
   "language": "python",
   "name": "python3"
  },
  "language_info": {
   "codemirror_mode": {
    "name": "ipython",
    "version": 3
   },
   "file_extension": ".py",
   "mimetype": "text/x-python",
   "name": "python",
   "nbconvert_exporter": "python",
   "pygments_lexer": "ipython3",
   "version": "3.8.5"
  }
 },
 "nbformat": 4,
 "nbformat_minor": 5
}
